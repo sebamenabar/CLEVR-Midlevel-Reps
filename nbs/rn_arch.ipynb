{
 "cells": [
  {
   "cell_type": "markdown",
   "metadata": {},
   "source": [
    "# Imports"
   ]
  },
  {
   "cell_type": "code",
   "execution_count": 1,
   "metadata": {
    "ExecuteTime": {
     "end_time": "2020-06-03T15:33:17.523372Z",
     "start_time": "2020-06-03T15:33:17.506313Z"
    }
   },
   "outputs": [],
   "source": [
    "%load_ext autoreload\n",
    "%autoreload 2"
   ]
  },
  {
   "cell_type": "code",
   "execution_count": 6,
   "metadata": {
    "ExecuteTime": {
     "end_time": "2020-06-03T15:35:29.890985Z",
     "start_time": "2020-06-03T15:35:29.513273Z"
    }
   },
   "outputs": [
    {
     "data": {
      "text/plain": [
       "True"
      ]
     },
     "execution_count": 6,
     "metadata": {},
     "output_type": "execute_result"
    }
   ],
   "source": [
    "import os\n",
    "import os.path as osp\n",
    "import sys\n",
    "\n",
    "sys.path.insert(0, '../src')\n",
    "\n",
    "import math\n",
    "\n",
    "from easydict import EasyDict as edict\n",
    "import numpy as np\n",
    "from PIL import Image\n",
    "import matplotlib.pyplot as plt\n",
    "\n",
    "import torch\n",
    "import torch.nn as nn\n",
    "import torch.nn.functional as F\n",
    "from torch.utils.data import DataLoader, Dataset\n",
    "import torchvision\n",
    "from torchvision import transforms as T\n",
    "from torchvision.transforms import functional as TF\n",
    "\n",
    "import pytorch_lightning as pl\n",
    "from torchsummaryX import summary\n",
    "\n",
    "def count_parameters(model):\n",
    "    return sum(p.numel() for p in model.parameters() if p.requires_grad)\n",
    "\n",
    "from config import __C, _to_values_only\n",
    "from data import CLEVRMidrepsDataset\n",
    "from backbones import RNEncoder, RNDecoder, RNDiscriminator\n",
    "from discriminator import NLayerDiscriminator\n",
    "\n",
    "from dotenv import load_dotenv\n",
    "load_dotenv('../.env')"
   ]
  },
  {
   "cell_type": "code",
   "execution_count": 23,
   "metadata": {
    "ExecuteTime": {
     "end_time": "2020-06-03T15:42:30.050131Z",
     "start_time": "2020-06-03T15:42:29.395287Z"
    }
   },
   "outputs": [
    {
     "name": "stdout",
     "output_type": "stream",
     "text": [
      "NLayerDiscriminator(\n",
      "  (model): Sequential(\n",
      "    (0): Conv2d(3, 64, kernel_size=(4, 4), stride=(2, 2), padding=(1, 1))\n",
      "    (1): LeakyReLU(negative_slope=0.2, inplace=True)\n",
      "    (2): Conv2d(64, 128, kernel_size=(4, 4), stride=(2, 2), padding=(1, 1), bias=False)\n",
      "    (3): BatchNorm2d(128, eps=1e-05, momentum=0.1, affine=True, track_running_stats=True)\n",
      "    (4): LeakyReLU(negative_slope=0.2, inplace=True)\n",
      "    (5): Conv2d(128, 256, kernel_size=(4, 4), stride=(2, 2), padding=(1, 1), bias=False)\n",
      "    (6): BatchNorm2d(256, eps=1e-05, momentum=0.1, affine=True, track_running_stats=True)\n",
      "    (7): LeakyReLU(negative_slope=0.2, inplace=True)\n",
      "    (8): Conv2d(256, 512, kernel_size=(4, 4), stride=(2, 2), padding=(1, 1), bias=False)\n",
      "    (9): BatchNorm2d(512, eps=1e-05, momentum=0.1, affine=True, track_running_stats=True)\n",
      "    (10): LeakyReLU(negative_slope=0.2, inplace=True)\n",
      "    (11): Conv2d(512, 512, kernel_size=(4, 4), stride=(2, 2), padding=(1, 1), bias=False)\n",
      "    (12): BatchNorm2d(512, eps=1e-05, momentum=0.1, affine=True, track_running_stats=True)\n",
      "    (13): LeakyReLU(negative_slope=0.2, inplace=True)\n",
      "    (14): Conv2d(512, 512, kernel_size=(4, 4), stride=(1, 1), bias=False)\n",
      "    (15): BatchNorm2d(512, eps=1e-05, momentum=0.1, affine=True, track_running_stats=True)\n",
      "    (16): LeakyReLU(negative_slope=0.2, inplace=True)\n",
      "    (17): Conv2d(512, 1, kernel_size=(4, 4), stride=(1, 1))\n",
      "  )\n",
      ")\n"
     ]
    },
    {
     "data": {
      "text/plain": [
       "torch.Size([1, 1, 1, 1])"
      ]
     },
     "execution_count": 23,
     "metadata": {},
     "output_type": "execute_result"
    }
   ],
   "source": [
    "print(NLayerDiscriminator(3, out_pool=False, n_layers=5, stride=2))\n",
    "NLayerDiscriminator(3, out_pool=False, n_layers=5, stride=2)(torch.randn(1, 3, 224, 224)).size()"
   ]
  },
  {
   "cell_type": "code",
   "execution_count": 41,
   "metadata": {
    "ExecuteTime": {
     "end_time": "2020-06-03T15:53:47.044086Z",
     "start_time": "2020-06-03T15:53:46.907790Z"
    }
   },
   "outputs": [
    {
     "name": "stdout",
     "output_type": "stream",
     "text": [
      "RNDiscriminator(\n",
      "  (layers): Sequential(\n",
      "    (0): Conv2d(3, 16, kernel_size=(4, 4), stride=(2, 2), bias=False)\n",
      "    (1): BatchNorm2d(16, eps=1e-05, momentum=0.1, affine=True, track_running_stats=True)\n",
      "    (2): LeakyReLU(negative_slope=0.2)\n",
      "    (3): Conv2d(16, 32, kernel_size=(4, 4), stride=(2, 2), bias=False)\n",
      "    (4): BatchNorm2d(32, eps=1e-05, momentum=0.1, affine=True, track_running_stats=True)\n",
      "    (5): LeakyReLU(negative_slope=0.2)\n",
      "    (6): Conv2d(32, 64, kernel_size=(4, 4), stride=(2, 2), bias=False)\n",
      "    (7): BatchNorm2d(64, eps=1e-05, momentum=0.1, affine=True, track_running_stats=True)\n",
      "    (8): LeakyReLU(negative_slope=0.2)\n",
      "    (9): Conv2d(64, 128, kernel_size=(4, 4), stride=(2, 2), bias=False)\n",
      "    (10): BatchNorm2d(128, eps=1e-05, momentum=0.1, affine=True, track_running_stats=True)\n",
      "    (11): LeakyReLU(negative_slope=0.2)\n",
      "    (12): Conv2d(128, 256, kernel_size=(5, 5), stride=(2, 2), bias=False)\n",
      "    (13): BatchNorm2d(256, eps=1e-05, momentum=0.1, affine=True, track_running_stats=True)\n",
      "    (14): LeakyReLU(negative_slope=0.2)\n",
      "    (15): Conv2d(256, 512, kernel_size=(4, 4), stride=(1, 1), bias=False)\n",
      "  )\n",
      ")\n",
      "torch.Size([1, 512, 1, 1])\n",
      "3090144\n"
     ]
    }
   ],
   "source": [
    "print(RNDiscriminator(512))\n",
    "print(RNDiscriminator(512)(torch.randn(1, 3, 224, 224)).size())\n",
    "print(count_parameters(RNDiscriminator(512)))"
   ]
  },
  {
   "cell_type": "code",
   "execution_count": 50,
   "metadata": {
    "ExecuteTime": {
     "end_time": "2020-06-03T15:57:57.490263Z",
     "start_time": "2020-06-03T15:57:56.987899Z"
    }
   },
   "outputs": [
    {
     "name": "stderr",
     "output_type": "stream",
     "text": [
      "[autoreload of config failed: Traceback (most recent call last):\n",
      "  File \"/home/samenabar/.venvs/grievous/lib/python3.6/site-packages/IPython/extensions/autoreload.py\", line 245, in check\n",
      "    superreload(m, reload, self.old_objects)\n",
      "  File \"/home/samenabar/.venvs/grievous/lib/python3.6/site-packages/IPython/extensions/autoreload.py\", line 394, in superreload\n",
      "    module = reload(module)\n",
      "  File \"/home/samenabar/.venvs/grievous/lib/python3.6/imp.py\", line 315, in reload\n",
      "    return importlib.reload(module)\n",
      "  File \"/home/samenabar/.venvs/grievous/lib/python3.6/importlib/__init__.py\", line 166, in reload\n",
      "    _bootstrap._exec(spec, module)\n",
      "  File \"<frozen importlib._bootstrap>\", line 618, in _exec\n",
      "  File \"<frozen importlib._bootstrap_external>\", line 678, in exec_module\n",
      "  File \"<frozen importlib._bootstrap>\", line 219, in _call_with_frames_removed\n",
      "  File \"../src/config.py\", line 6, in <module>\n",
      "    del __C.train.lr\n",
      "AttributeError: lr\n",
      "]\n"
     ]
    },
    {
     "data": {
      "text/plain": [
       "(1551936, 3839104, 3090400)"
      ]
     },
     "execution_count": 50,
     "metadata": {},
     "output_type": "execute_result"
    }
   ],
   "source": [
    "count_parameters(RNEncoder(512)), count_parameters(RNDecoder(512, 256)), count_parameters(RNDiscriminator(4, 512))"
   ]
  },
  {
   "cell_type": "markdown",
   "metadata": {},
   "source": [
    "# Data"
   ]
  },
  {
   "cell_type": "code",
   "execution_count": 3,
   "metadata": {
    "ExecuteTime": {
     "end_time": "2020-06-02T21:54:49.564975Z",
     "start_time": "2020-06-02T21:54:48.924670Z"
    }
   },
   "outputs": [
    {
     "name": "stdout",
     "output_type": "stream",
     "text": [
      "Orig train size: 70000\n",
      "Orig val size: 3000\n",
      "Uni train size: 70000\n",
      "Uni val size: 3000\n"
     ]
    }
   ],
   "source": [
    "tasks = [\"depths\", \"normals\", \"autoencoder\"]\n",
    "\n",
    "orig_dset = CLEVRMidrepsDataset(\n",
    "    base_dir=\"/storage1/samenabar/code/CLMAC/clevr-dataset-gen/datasets/CLEVR_v1.2/\",\n",
    "    split=\"train\",\n",
    "    midreps=tasks,\n",
    "    transform=CLEVRMidrepsDataset.std_img_transform,\n",
    "    midreps_transform={\n",
    "        \"default\": CLEVRMidrepsDataset.std_midreps_transforms,\n",
    "        \"shadeless\": CLEVRMidrepsDataset.std_img_transform,\n",
    "    },\n",
    ")\n",
    "\n",
    "orig_val_dset = CLEVRMidrepsDataset(\n",
    "    base_dir=\"/storage1/samenabar/code/CLMAC/clevr-dataset-gen/datasets/CLEVR_v1.2/\",\n",
    "    split=\"val\",\n",
    "    midreps=tasks,\n",
    "    transform=CLEVRMidrepsDataset.std_img_transform,\n",
    "    midreps_transform={\n",
    "        \"default\": CLEVRMidrepsDataset.std_midreps_transforms,\n",
    "        \"shadeless\": CLEVRMidrepsDataset.std_img_transform,\n",
    "    },\n",
    ")\n",
    "\n",
    "uni_dset = CLEVRMidrepsDataset(\n",
    "    base_dir=\"/storage1/samenabar/code/CLMAC/clevr-dataset-gen/datasets/CLEVR_Uni_v1.2/\",\n",
    "    split=\"train\",\n",
    "    midreps=tasks,\n",
    "    transform=CLEVRMidrepsDataset.std_img_transform,\n",
    "    midreps_transform={\n",
    "        \"default\": CLEVRMidrepsDataset.std_midreps_transforms,\n",
    "        \"shadeless\": CLEVRMidrepsDataset.std_img_transform,\n",
    "    },\n",
    ")\n",
    "\n",
    "uni_val_dset = CLEVRMidrepsDataset(\n",
    "    base_dir=\"/storage1/samenabar/code/CLMAC/clevr-dataset-gen/datasets/CLEVR_Uni_v1.2/\",\n",
    "    split=\"val\",\n",
    "    midreps=tasks,\n",
    "    transform=CLEVRMidrepsDataset.std_img_transform,\n",
    "    midreps_transform={\n",
    "        \"default\": CLEVRMidrepsDataset.std_midreps_transforms,\n",
    "        \"shadeless\": CLEVRMidrepsDataset.std_img_transform,\n",
    "    },\n",
    ")\n",
    "\n",
    "print('Orig train size:', len(orig_dset))\n",
    "print('Orig val size:', len(orig_val_dset))\n",
    "print('Uni train size:', len(uni_dset))\n",
    "print('Uni val size:', len(uni_val_dset))"
   ]
  },
  {
   "cell_type": "markdown",
   "metadata": {},
   "source": [
    "# PL Model"
   ]
  },
  {
   "cell_type": "code",
   "execution_count": 123,
   "metadata": {
    "ExecuteTime": {
     "end_time": "2020-06-02T20:45:16.640120Z",
     "start_time": "2020-06-02T20:45:16.249046Z"
    }
   },
   "outputs": [],
   "source": [
    "from PIL import Image"
   ]
  },
  {
   "cell_type": "code",
   "execution_count": 137,
   "metadata": {
    "ExecuteTime": {
     "end_time": "2020-06-02T21:49:51.816318Z",
     "start_time": "2020-06-02T21:49:51.636635Z"
    }
   },
   "outputs": [],
   "source": [
    "img, midreps = orig_dset[0]"
   ]
  },
  {
   "cell_type": "code",
   "execution_count": 135,
   "metadata": {
    "ExecuteTime": {
     "end_time": "2020-06-02T20:48:59.590776Z",
     "start_time": "2020-06-02T20:48:58.872923Z"
    }
   },
   "outputs": [
    {
     "data": {
      "text/plain": [
       "<matplotlib.image.AxesImage at 0x7f740fe1c470>"
      ]
     },
     "execution_count": 135,
     "metadata": {},
     "output_type": "execute_result"
    },
    {
     "data": {
      "image/png": "[encoded data removed]",
      "text/plain": [
       "<Figure size 1152x288 with 3 Axes>"
      ]
     },
     "metadata": {
      "needs_background": "light"
     },
     "output_type": "display_data"
    }
   ],
   "source": [
    "fig, axes = plt.subplots(nrows=1, ncols=3, figsize=(16, 4))\n",
    "axes[0].imshow(TF.to_pil_image(img))\n",
    "axes[1].imshow(midreps['depths'].squeeze(0))"
   ]
  },
  {
   "cell_type": "code",
   "execution_count": 4,
   "metadata": {
    "ExecuteTime": {
     "end_time": "2020-06-02T21:54:51.214594Z",
     "start_time": "2020-06-02T21:54:51.171983Z"
    },
    "cell_style": "center"
   },
   "outputs": [],
   "source": [
    "def get_acc_at(lnorm_dist_map, val):\n",
    "    acc = (lnorm_dist_map <= val).flatten(1).sum(1).float() / lnorm_dist_map.size(1)\n",
    "    return acc"
   ]
  },
  {
   "cell_type": "code",
   "execution_count": 63,
   "metadata": {
    "ExecuteTime": {
     "end_time": "2020-06-02T22:35:16.453878Z",
     "start_time": "2020-06-02T22:35:16.001088Z"
    },
    "cell_style": "center",
    "code_folding": [
     10,
     42,
     47,
     74,
     107,
     117
    ]
   },
   "outputs": [],
   "source": [
    "from collections import OrderedDict as odict\n",
    "from torch.utils.data import DataLoader\n",
    "from torchvision.utils import make_grid\n",
    "\n",
    "from base_pl_model import BasePLModel\n",
    "from utils import task_to_out_nc\n",
    "from losses import bce_fill\n",
    "\n",
    "\n",
    "class PLModel(BasePLModel):\n",
    "    def __init__(self, cfg=None):\n",
    "        super().__init__(cfg)\n",
    "\n",
    "        self.many_validation = True\n",
    "        self.encoder = RNEncoder(**cfg.model.encoder.kwargs)\n",
    "        self.decoder = RNDecoder(tasks=cfg.tasks, **cfg.model.decoder.kwargs)\n",
    "\n",
    "        if cfg.train.lnorm == \"l1\":\n",
    "            self.lnorm = nn.L1Loss(reduction=\"none\")\n",
    "        elif cfg.train.lnorm == \"l2\":\n",
    "            self.lnorm = nn.MSELoss(reduction=\"none\")\n",
    "        elif cfg.train.lnorm == \"smooth_l1\":\n",
    "            self.lnorm = nn.SmoothL1Loss(reduction=\"none\")\n",
    "        else:\n",
    "            print(f\"Unkown lnorm: {cfg.train.lnorm}\")\n",
    "\n",
    "        intra_task_normalizer = cfg.train.lnorm_mult\n",
    "        if cfg.model.discriminator.use:\n",
    "            intra_task_normalizer += cfg.train.adv_mult\n",
    "        self.lambdas = edict()\n",
    "        self.lambdas.lnorm = cfg.train.lnorm_mult / intra_task_normalizer\n",
    "        self.lambdas.adv = cfg.train.adv_mult / intra_task_normalizer\n",
    "\n",
    "        inter_task_normalizar = sum(\n",
    "            [cfg.train.task_lambdas[task] for task in cfg.tasks]\n",
    "        )\n",
    "        for task in cfg.tasks:\n",
    "            self.lambdas[task] = cfg.train.task_lambdas[task] / inter_task_normalizar\n",
    "\n",
    "        print(\"Multitask weights:\")\n",
    "        print(self.lambdas)\n",
    "\n",
    "    def forward(self, img):\n",
    "        features = self.encoder(img)\n",
    "        midreps = self.decoder(features)\n",
    "        return features, midreps\n",
    "\n",
    "    def configure_optimizers(self):\n",
    "        encoder_decoder_params = list(self.encoder.parameters())\n",
    "        encoder_decoder_params += list(self.decoder.parameters())\n",
    "\n",
    "        def make_opt(parameters, name):\n",
    "            return torch.optim.Adam(\n",
    "                parameters,\n",
    "                lr=getattr(self.cfg.train.lrs, name, self.cfg.train.lrs.default),\n",
    "                weight_decay=getattr(\n",
    "                    self.cfg.train.weight_decay,\n",
    "                    name,\n",
    "                    self.cfg.train.weight_decay.default,\n",
    "                ),\n",
    "            )\n",
    "\n",
    "        encoder_decoder_opt = make_opt(encoder_decoder_params, \"encoder_decoder\")\n",
    "        encoder_decoder_sch = torch.optim.lr_scheduler.MultiStepLR(\n",
    "            encoder_decoder_opt, milestones=[5, 10], gamma=0.1,\n",
    "        )\n",
    "        # if self.discriminators:\n",
    "        #     discriminator_opt = make_opt(\n",
    "        #         self.discriminators.parameters(), \"discriminator\"\n",
    "        #     )\n",
    "        #     return [encoder_decoder_opt, discriminator_opt], [encoder_decoder_sch]\n",
    "\n",
    "        return [encoder_decoder_opt], [encoder_decoder_sch]\n",
    "\n",
    "    def prepare_data(self):\n",
    "        self.orig_train_dataset = CLEVRMidrepsDataset(\n",
    "            base_dir=self.cfg.orig_dir,\n",
    "            split=\"train\",\n",
    "            midreps=self.cfg.tasks,\n",
    "            transform=CLEVRMidrepsDataset.std_img_transform,\n",
    "            midreps_transform=CLEVRMidrepsDataset.std_midreps_transforms,\n",
    "        )\n",
    "\n",
    "        self.orig_val_dataset = CLEVRMidrepsDataset(\n",
    "            base_dir=self.cfg.orig_dir,\n",
    "            split=\"val\",\n",
    "            midreps=self.cfg.tasks,\n",
    "            transform=CLEVRMidrepsDataset.std_img_transform,\n",
    "            midreps_transform=CLEVRMidrepsDataset.std_midreps_transforms,\n",
    "        )\n",
    "\n",
    "        self.uni_train_dataset = CLEVRMidrepsDataset(\n",
    "            base_dir=self.cfg.uni_dir,\n",
    "            split=\"train\",\n",
    "            midreps=self.cfg.tasks,\n",
    "            transform=CLEVRMidrepsDataset.std_img_transform,\n",
    "            midreps_transform=CLEVRMidrepsDataset.std_midreps_transforms,\n",
    "        )\n",
    "\n",
    "        self.uni_val_dataset = CLEVRMidrepsDataset(\n",
    "            base_dir=self.cfg.uni_dir,\n",
    "            split=\"val\",\n",
    "            midreps=self.cfg.tasks,\n",
    "            transform=CLEVRMidrepsDataset.std_img_transform,\n",
    "            midreps_transform=CLEVRMidrepsDataset.std_midreps_transforms,\n",
    "        )\n",
    "\n",
    "    def train_dataloader(self):\n",
    "        return DataLoader(\n",
    "            self.orig_train_dataset,\n",
    "            shuffle=True,\n",
    "            drop_last=True,\n",
    "            batch_size=self.cfg.train.bsz,\n",
    "            num_workers=self.cfg.num_workers,\n",
    "            pin_memory=self.use_cuda,\n",
    "        )\n",
    "\n",
    "    def val_dataloader(self):\n",
    "        orig_val_loader = DataLoader(\n",
    "            self.orig_val_dataset,\n",
    "            shuffle=False,\n",
    "            drop_last=False,\n",
    "            batch_size=self.cfg.train.val_bsz,\n",
    "            num_workers=self.cfg.num_workers,\n",
    "            pin_memory=self.use_cuda,\n",
    "        )\n",
    "\n",
    "        uni_val_loader = DataLoader(\n",
    "            self.uni_val_dataset,\n",
    "            shuffle=False,\n",
    "            drop_last=False,\n",
    "            batch_size=self.cfg.train.val_bsz,\n",
    "            num_workers=self.cfg.num_workers,\n",
    "            pin_memory=self.use_cuda,\n",
    "        )\n",
    "\n",
    "        return [orig_val_loader, uni_val_loader]\n",
    "\n",
    "    def validation_step(self, batch, batch_nb, dataset_idx=None):\n",
    "        tgt_img, tgt_midreps = batch\n",
    "        if \"autoencoder\" in self.cfg.tasks:\n",
    "            tgt_midreps[\"autoencoder\"] = tgt_img\n",
    "        _, pred_midreps = self(tgt_img)\n",
    "        stats = {}\n",
    "        if dataset_idx == 0:\n",
    "            prefix = \"orig_\"\n",
    "        elif dataset_idx == 1:\n",
    "            prefix = \"uni_\"\n",
    "        else:\n",
    "            prefix = \"\"\n",
    "        for task in self.cfg.tasks:\n",
    "            lnorm = self.lnorm(pred_midreps[task], tgt_midreps[task]).flatten(1).sum(1)\n",
    "            abs_dist = (pred_midreps[task] - tgt_midreps[task]).abs()\n",
    "            abs_dist = abs_dist.mean(1).flatten(1)\n",
    "\n",
    "            stats[f\"{prefix}val_{task}_lnorm\"] = lnorm\n",
    "            acc_levels = [0.01, 0.025, 0.05]\n",
    "            for acc_l in acc_levels:\n",
    "                stats[f\"{prefix}val_{task}_{acc_l}\"] = get_acc_at(abs_dist, acc_l)\n",
    "\n",
    "        if batch_nb == 0:\n",
    "            num_samples = 32\n",
    "            img1 = make_grid(tgt_img[:num_samples], nrow=1).permute(1, 2, 0).cpu()\n",
    "            img2 = make_grid(tgt_midreps[\"depths\"][:num_samples], nrow=1)[0].cpu()\n",
    "            img3 = make_grid(pred_midreps[\"depths\"][:num_samples], nrow=1)[0].cpu()\n",
    "\n",
    "            fig, axes = plt.subplots(\n",
    "                nrows=1,\n",
    "                ncols=1 + 2 * len(pred_midreps),\n",
    "                figsize=(6 * (1 + 2 * len(pred_midreps)), 6 * num_samples),\n",
    "            )\n",
    "            plt.axis('off')\n",
    "            \n",
    "            img_ax = axes[0]\n",
    "            img = make_grid(tgt_img[:num_samples], nrow=1).permute(1, 2, 0).cpu()\n",
    "            img_ax.imshow(img)\n",
    "            img_ax.set_title(\"Input image\", fontsize=30)\n",
    "            plt.subplots_adjust(wspace=0.01)\n",
    "            # img_ax.axis(\"off\")\n",
    "            \n",
    "            for i, task_name in enumerate(pred_midreps.keys()):\n",
    "                gt_ax = axes[i * 2 + 1]\n",
    "                pred_ax = axes[i * 2 + 2]\n",
    "                \n",
    "                gt_img = make_grid(tgt_midreps[task_name][:num_samples], nrow=1).cpu()\n",
    "                if gt_img.size(0) == 1:\n",
    "                    gt_img = gt_img.squeeze(0)\n",
    "                else:\n",
    "                    gt_img = gt_img.permute(1, 2, 0)\n",
    "                pred_img = make_grid(pred_midreps[task_name][:num_samples], nrow=1).cpu()\n",
    "                if pred_img.size(0) == 1:\n",
    "                    pred_img = pred_img.squeeze(0)\n",
    "                else:\n",
    "                    pred_img = pred_img.permute(1, 2, 0)\n",
    "            \n",
    "                gt_ax.imshow(gt_img, cmap=\"viridis\")\n",
    "                pred_ax.imshow(pred_img, cmap=\"viridis\")\n",
    "\n",
    "                gt_ax.set_title(f\"Real {task_name}\", fontsize=30)\n",
    "                pred_ax.set_title(f\"Predicted {task_name}\", fontsize=30)\n",
    "            \n",
    "            self.log_figure(fig, f\"{prefix}validation\", self.global_step)\n",
    "\n",
    "        return stats\n",
    "\n",
    "    def validation_epoch_end(self, outputs):\n",
    "        stats = {}\n",
    "        outputs = outputs[0]\n",
    "        for k in outputs[0].keys():\n",
    "            stats[k] = torch.cat([o[k] for o in outputs]).mean()\n",
    "\n",
    "        return {\n",
    "#             \"progress_bar\": {\n",
    "#                 \"val_depths_lnorm\": stats[\"val_depths_lnorm\"],\n",
    "#                 \"val_depths_acc_0.1\": stats[\"val_depths_acc_0.1\"],\n",
    "#             },\n",
    "            \"log\": stats,\n",
    "        }\n",
    "\n",
    "    def training_step(self, batch, batch_nb, optimizer_idx=None):\n",
    "        tgt_img, tgt_midreps = batch\n",
    "        if \"autoencoder\" in self.cfg.tasks:\n",
    "            tgt_midreps[\"autoencoder\"] = tgt_img\n",
    "        if (optimizer_idx == 0) or (optimizer_idx is None):\n",
    "            # Train encoder decoder\n",
    "            \n",
    "            _, pred_midreps = self(tgt_img)\n",
    "            losses = {}\n",
    "            stats = {}\n",
    "            for task in self.cfg.tasks:\n",
    "                lnorm_loss = self.lnorm(pred_midreps[task], tgt_midreps[task])\n",
    "                lnorm_loss = lnorm_loss.flatten(1).sum(1).mean() * self.lambdas.lnorm\n",
    "                abs_dist = (pred_midreps[task] - tgt_midreps[task]).abs()\n",
    "                abs_dist = abs_dist.mean(1).flatten(1)\n",
    "                losses[task] = {\n",
    "                    \"loss\": lnorm_loss,\n",
    "                    \"lnorm\": lnorm_loss,\n",
    "                }\n",
    "                acc_levels = [0.01, 0.025, 0.05]\n",
    "                stats[task] = {\n",
    "                    f\"acc_{acc_l}\": get_acc_at(abs_dist, acc_l).mean() for acc_l in acc_levels\n",
    "                }\n",
    "\n",
    "            total_loss = 0.0\n",
    "            for task, loss in losses.items():\n",
    "                total_loss += loss[\"loss\"] * self.lambdas[task]\n",
    "\n",
    "            tqdm_dict = {}\n",
    "            for task, loss in losses.items():\n",
    "                for lname, lval in loss.items():\n",
    "                    if lname != \"loss\":\n",
    "                        tqdm_dict[f\"{task}_{lname}\"] = lval\n",
    "                tqdm_dict[f\"{task}_acc_0.01\"] = stats[task][\"acc_0.01\"]\n",
    "\n",
    "            log = {**tqdm_dict}\n",
    "            for task, _stats in stats.items():\n",
    "                for sname, _stat in _stats.items():\n",
    "                    log[f\"{task}_{sname}\"] = _stat\n",
    "\n",
    "            if optimizer_idx == 0:\n",
    "                self.stored_fake_batch = edict(\n",
    "                    **{name: mr.detach() for name, mr in pred_midreps.items()}\n",
    "                )\n",
    "\n",
    "        elif optimizer_idx == 1:\n",
    "            pred_midreps = self.stored_fake_batch\n",
    "            losses = {}\n",
    "            for task_name, disc in self.discriminators._modules.items():\n",
    "                real_inp = torch.cat([tgt_img, tgt_midreps[task_name]], 1)\n",
    "                real_inp += torch.empty_like(real_inp).normal_(0, 0.01)\n",
    "                real2real = disc(real_inp)\n",
    "\n",
    "                fake_inp = torch.cat([tgt_img, pred_midreps[task_name]], 1)\n",
    "                fake_inp += torch.empty_like(fake_inp).normal_(0, 0.01)\n",
    "                fake2real = disc(fake_inp)\n",
    "\n",
    "                disc_loss = (\n",
    "                    bce_fill(real2real, 1).mean() + bce_fill(fake2real, 0).mean()\n",
    "                )\n",
    "                disc_loss = disc_loss * 0.5 * self.lambdas.adv\n",
    "                losses[task_name] = disc_loss\n",
    "\n",
    "            total_loss = 0.0\n",
    "            for task, loss in losses.items():\n",
    "                total_loss += loss * self.lambdas[task]\n",
    "\n",
    "            tqdm_dict = {}\n",
    "            for task, loss in losses.items():\n",
    "                tqdm_dict[f\"{task}_d\"] = loss\n",
    "\n",
    "            log = tqdm_dict\n",
    "\n",
    "        return {\n",
    "            \"loss\": total_loss,\n",
    "            \"progress_bar\": tqdm_dict,\n",
    "            \"log\": log,\n",
    "        }"
   ]
  },
  {
   "cell_type": "markdown",
   "metadata": {},
   "source": [
    "# Config"
   ]
  },
  {
   "cell_type": "code",
   "execution_count": 42,
   "metadata": {
    "ExecuteTime": {
     "end_time": "2020-06-02T22:22:54.824345Z",
     "start_time": "2020-06-02T22:22:54.777040Z"
    }
   },
   "outputs": [
    {
     "data": {
      "text/plain": [
       "{'cfg_file': None,\n",
       " 'gpus': 1,\n",
       " 'num_workers': 4,\n",
       " 'random_seed': None,\n",
       " 'logcomet': True,\n",
       " 'comet_workspace': 'debug',\n",
       " 'comet_project_name': 'debug',\n",
       " 'run_name': '',\n",
       " 'exp_name': '',\n",
       " 'eval': False,\n",
       " 'test': False,\n",
       " 'checkpoint_path': None,\n",
       " 'train': {'bsz': 64,\n",
       "  'epochs': 15,\n",
       "  'lr': 0.0001,\n",
       "  'val_bsz': 64,\n",
       "  'lrs': {'default': 0.0001, 'discriminator': 1e-05},\n",
       "  'lnorm': 'smooth_l1',\n",
       "  'weight_decay': {'default': 2e-06, 'discriminator': 1.9999999999999998e-05},\n",
       "  'lnorm_mult': 0.996,\n",
       "  'adv_mult': 0.004,\n",
       "  'task_lambdas': {'depths': 1, 'normals': 1, 'autoencoder': 1},\n",
       "  'adv_skip': True},\n",
       " 'tasks': ['depths', 'normals', 'autoencoder'],\n",
       " 'orig_dir': '/storage1/samenabar/code/CLMAC/clevr-dataset-gen/datasets/CLEVR_v1.2',\n",
       " 'uni_dir': '/storage1/samenabar/code/CLMAC/clevr-dataset-gen/datasets/CLEVR_Uni_v1.2',\n",
       " 'model': {'arch': 'rn',\n",
       "  'backbone': {'kwargs': {'lightweight': True, 'layers': None}},\n",
       "  'midreps': {'use': True, 'kwargs': {'normalize_outputs': True}},\n",
       "  'decoder': {'kwargs': {'in_nc': 128, 'last_nc': 64}},\n",
       "  'discriminator': {'use': False, 'kwargs': {}},\n",
       "  'encoder': {'kwargs': {'out_nc': 128}}}}"
      ]
     },
     "execution_count": 42,
     "metadata": {},
     "output_type": "execute_result"
    }
   ],
   "source": [
    "from config import __C\n",
    "\n",
    "cfg = _to_values_only(__C, 0)\n",
    "\n",
    "cfg.logcomet = True\n",
    "cfg.num_workers = 4\n",
    "cfg.gpus = 1\n",
    "cfg.train.lrs.default = 1e-4\n",
    "cfg.train.bsz = 64\n",
    "cfg.tasks = [\"depths\", \"normals\", \"autoencoder\"]\n",
    "\n",
    "cfg.model.encoder = edict(kwargs=edict(out_nc=128))\n",
    "cfg.model.decoder = edict(kwargs=edict(in_nc=cfg.model.encoder.kwargs.out_nc, last_nc=64))\n",
    "\n",
    "cfg"
   ]
  },
  {
   "cell_type": "markdown",
   "metadata": {},
   "source": [
    "# Trainer"
   ]
  },
  {
   "cell_type": "code",
   "execution_count": 49,
   "metadata": {
    "ExecuteTime": {
     "end_time": "2020-06-02T22:29:01.520840Z",
     "start_time": "2020-06-02T22:29:01.451216Z"
    }
   },
   "outputs": [],
   "source": [
    "feats, midreps = model(torch.randn(4, 3, 224, 224).cuda())"
   ]
  },
  {
   "cell_type": "code",
   "execution_count": 57,
   "metadata": {
    "ExecuteTime": {
     "end_time": "2020-06-02T22:29:53.205101Z",
     "start_time": "2020-06-02T22:29:53.116417Z"
    }
   },
   "outputs": [
    {
     "data": {
      "text/plain": [
       "{'depths': tensor([[[[0.0000e+00, 3.4779e-04, 5.1363e-06,  ..., 1.3569e-04,\n",
       "            0.0000e+00, 0.0000e+00],\n",
       "           [0.0000e+00, 0.0000e+00, 0.0000e+00,  ..., 0.0000e+00,\n",
       "            4.4637e-04, 0.0000e+00],\n",
       "           [9.3857e-05, 0.0000e+00, 0.0000e+00,  ..., 1.2503e-04,\n",
       "            0.0000e+00, 5.2949e-05],\n",
       "           ...,\n",
       "           [0.0000e+00, 0.0000e+00, 3.7088e-04,  ..., 0.0000e+00,\n",
       "            2.7725e-04, 6.0293e-05],\n",
       "           [3.2133e-06, 4.3519e-05, 8.0494e-05,  ..., 0.0000e+00,\n",
       "            0.0000e+00, 7.1114e-05],\n",
       "           [0.0000e+00, 8.4048e-05, 1.2755e-04,  ..., 0.0000e+00,\n",
       "            1.0134e-04, 0.0000e+00]]],\n",
       " \n",
       " \n",
       "         [[[1.2686e-05, 3.7355e-05, 1.9652e-04,  ..., 3.4362e-04,\n",
       "            0.0000e+00, 0.0000e+00],\n",
       "           [0.0000e+00, 0.0000e+00, 0.0000e+00,  ..., 0.0000e+00,\n",
       "            2.1628e-04, 0.0000e+00],\n",
       "           [1.6220e-05, 0.0000e+00, 0.0000e+00,  ..., 0.0000e+00,\n",
       "            0.0000e+00, 4.1101e-05],\n",
       "           ...,\n",
       "           [0.0000e+00, 0.0000e+00, 2.2290e-04,  ..., 0.0000e+00,\n",
       "            1.7429e-04, 2.6405e-05],\n",
       "           [1.0272e-04, 2.1163e-04, 1.8501e-04,  ..., 0.0000e+00,\n",
       "            0.0000e+00, 1.0506e-04],\n",
       "           [0.0000e+00, 0.0000e+00, 0.0000e+00,  ..., 0.0000e+00,\n",
       "            1.0819e-04, 0.0000e+00]]],\n",
       " \n",
       " \n",
       "         [[[0.0000e+00, 1.0494e-04, 4.6201e-05,  ..., 2.5162e-04,\n",
       "            0.0000e+00, 0.0000e+00],\n",
       "           [8.0187e-05, 0.0000e+00, 0.0000e+00,  ..., 9.6469e-05,\n",
       "            6.7163e-05, 0.0000e+00],\n",
       "           [1.0738e-04, 1.3974e-04, 0.0000e+00,  ..., 9.3330e-05,\n",
       "            9.5623e-05, 0.0000e+00],\n",
       "           ...,\n",
       "           [0.0000e+00, 0.0000e+00, 2.3732e-04,  ..., 0.0000e+00,\n",
       "            2.1695e-04, 7.0997e-05],\n",
       "           [3.4458e-05, 1.3216e-04, 1.4216e-04,  ..., 0.0000e+00,\n",
       "            6.5547e-05, 2.9243e-05],\n",
       "           [0.0000e+00, 0.0000e+00, 0.0000e+00,  ..., 0.0000e+00,\n",
       "            1.1768e-04, 0.0000e+00]]],\n",
       " \n",
       " \n",
       "         [[[0.0000e+00, 3.6476e-04, 3.4733e-06,  ..., 2.1820e-04,\n",
       "            0.0000e+00, 0.0000e+00],\n",
       "           [0.0000e+00, 0.0000e+00, 0.0000e+00,  ..., 0.0000e+00,\n",
       "            1.6083e-04, 0.0000e+00],\n",
       "           [1.0230e-05, 0.0000e+00, 0.0000e+00,  ..., 6.8672e-05,\n",
       "            1.1205e-04, 1.3708e-04],\n",
       "           ...,\n",
       "           [0.0000e+00, 0.0000e+00, 3.2884e-04,  ..., 0.0000e+00,\n",
       "            2.0398e-04, 0.0000e+00],\n",
       "           [8.7741e-05, 1.2166e-04, 8.1670e-05,  ..., 0.0000e+00,\n",
       "            4.9818e-05, 1.7647e-05],\n",
       "           [0.0000e+00, 0.0000e+00, 0.0000e+00,  ..., 0.0000e+00,\n",
       "            5.3217e-05, 0.0000e+00]]]], device='cuda:0'),\n",
       " 'normals': tensor([[[[0.0000e+00, 0.0000e+00, 0.0000e+00,  ..., 8.3080e-05,\n",
       "            0.0000e+00, 0.0000e+00],\n",
       "           [1.6455e-05, 1.2427e-04, 2.5677e-04,  ..., 0.0000e+00,\n",
       "            0.0000e+00, 0.0000e+00],\n",
       "           [1.5659e-04, 0.0000e+00, 2.4072e-04,  ..., 0.0000e+00,\n",
       "            1.2220e-05, 0.0000e+00],\n",
       "           ...,\n",
       "           [0.0000e+00, 1.5786e-04, 2.6225e-04,  ..., 0.0000e+00,\n",
       "            0.0000e+00, 0.0000e+00],\n",
       "           [0.0000e+00, 1.3442e-04, 1.5154e-05,  ..., 6.0353e-05,\n",
       "            0.0000e+00, 0.0000e+00],\n",
       "           [4.6319e-06, 2.1080e-04, 0.0000e+00,  ..., 0.0000e+00,\n",
       "            0.0000e+00, 0.0000e+00]],\n",
       " \n",
       "          [[0.0000e+00, 0.0000e+00, 0.0000e+00,  ..., 0.0000e+00,\n",
       "            0.0000e+00, 0.0000e+00],\n",
       "           [5.9559e-05, 1.8887e-04, 2.9172e-04,  ..., 1.0374e-04,\n",
       "            3.6600e-05, 0.0000e+00],\n",
       "           [0.0000e+00, 0.0000e+00, 0.0000e+00,  ..., 0.0000e+00,\n",
       "            0.0000e+00, 3.1195e-05],\n",
       "           ...,\n",
       "           [4.2071e-05, 3.6579e-04, 0.0000e+00,  ..., 2.1809e-04,\n",
       "            4.4673e-05, 2.0330e-05],\n",
       "           [7.9885e-06, 0.0000e+00, 0.0000e+00,  ..., 9.3875e-06,\n",
       "            0.0000e+00, 5.0991e-06],\n",
       "           [8.3403e-05, 3.3927e-05, 0.0000e+00,  ..., 1.5578e-04,\n",
       "            0.0000e+00, 0.0000e+00]],\n",
       " \n",
       "          [[1.1861e-05, 1.2851e-04, 0.0000e+00,  ..., 6.8715e-06,\n",
       "            5.6069e-06, 3.3983e-05],\n",
       "           [0.0000e+00, 3.4092e-04, 6.5740e-05,  ..., 0.0000e+00,\n",
       "            1.6185e-05, 1.1305e-04],\n",
       "           [7.9175e-06, 0.0000e+00, 0.0000e+00,  ..., 0.0000e+00,\n",
       "            0.0000e+00, 0.0000e+00],\n",
       "           ...,\n",
       "           [2.7172e-06, 1.6837e-04, 0.0000e+00,  ..., 8.9999e-05,\n",
       "            0.0000e+00, 1.2071e-04],\n",
       "           [0.0000e+00, 6.0534e-05, 1.1444e-04,  ..., 1.8101e-05,\n",
       "            7.8685e-05, 9.8766e-05],\n",
       "           [7.0934e-06, 1.2079e-04, 0.0000e+00,  ..., 0.0000e+00,\n",
       "            0.0000e+00, 0.0000e+00]]],\n",
       " \n",
       " \n",
       "         [[[0.0000e+00, 0.0000e+00, 1.6719e-05,  ..., 8.2448e-05,\n",
       "            0.0000e+00, 5.0197e-05],\n",
       "           [0.0000e+00, 0.0000e+00, 1.7904e-05,  ..., 0.0000e+00,\n",
       "            0.0000e+00, 0.0000e+00],\n",
       "           [3.7825e-05, 0.0000e+00, 0.0000e+00,  ..., 0.0000e+00,\n",
       "            0.0000e+00, 6.4375e-05],\n",
       "           ...,\n",
       "           [4.8953e-05, 0.0000e+00, 2.6448e-04,  ..., 0.0000e+00,\n",
       "            0.0000e+00, 0.0000e+00],\n",
       "           [0.0000e+00, 2.6509e-05, 0.0000e+00,  ..., 4.9827e-07,\n",
       "            0.0000e+00, 3.5980e-06],\n",
       "           [2.4478e-05, 2.2715e-04, 9.6904e-05,  ..., 0.0000e+00,\n",
       "            0.0000e+00, 0.0000e+00]],\n",
       " \n",
       "          [[0.0000e+00, 0.0000e+00, 0.0000e+00,  ..., 0.0000e+00,\n",
       "            0.0000e+00, 0.0000e+00],\n",
       "           [2.1188e-05, 1.4242e-05, 3.0969e-04,  ..., 0.0000e+00,\n",
       "            7.2270e-05, 0.0000e+00],\n",
       "           [0.0000e+00, 0.0000e+00, 0.0000e+00,  ..., 0.0000e+00,\n",
       "            0.0000e+00, 6.1149e-05],\n",
       "           ...,\n",
       "           [6.5016e-05, 1.2070e-04, 0.0000e+00,  ..., 1.8519e-04,\n",
       "            7.6359e-05, 7.3929e-05],\n",
       "           [0.0000e+00, 0.0000e+00, 0.0000e+00,  ..., 0.0000e+00,\n",
       "            0.0000e+00, 0.0000e+00],\n",
       "           [4.4970e-05, 4.6255e-06, 3.1941e-05,  ..., 8.1379e-05,\n",
       "            0.0000e+00, 0.0000e+00]],\n",
       " \n",
       "          [[3.3014e-05, 9.0245e-05, 0.0000e+00,  ..., 1.4322e-04,\n",
       "            0.0000e+00, 0.0000e+00],\n",
       "           [0.0000e+00, 1.3388e-04, 2.7316e-05,  ..., 0.0000e+00,\n",
       "            2.4104e-06, 1.1574e-04],\n",
       "           [0.0000e+00, 0.0000e+00, 0.0000e+00,  ..., 2.6174e-05,\n",
       "            1.0998e-04, 5.5853e-05],\n",
       "           ...,\n",
       "           [2.5455e-05, 0.0000e+00, 5.3693e-05,  ..., 1.1250e-04,\n",
       "            0.0000e+00, 1.2798e-04],\n",
       "           [5.4574e-06, 1.3960e-04, 5.1825e-05,  ..., 2.9331e-05,\n",
       "            6.2409e-05, 4.9459e-05],\n",
       "           [0.0000e+00, 0.0000e+00, 1.5952e-07,  ..., 0.0000e+00,\n",
       "            0.0000e+00, 0.0000e+00]]],\n",
       " \n",
       " \n",
       "         [[[0.0000e+00, 4.6613e-05, 3.0120e-05,  ..., 2.1037e-05,\n",
       "            0.0000e+00, 2.5713e-06],\n",
       "           [0.0000e+00, 0.0000e+00, 3.1983e-04,  ..., 0.0000e+00,\n",
       "            0.0000e+00, 0.0000e+00],\n",
       "           [6.0939e-05, 6.2571e-05, 1.6262e-04,  ..., 9.1527e-05,\n",
       "            1.0558e-05, 6.0521e-05],\n",
       "           ...,\n",
       "           [0.0000e+00, 0.0000e+00, 2.1249e-04,  ..., 0.0000e+00,\n",
       "            0.0000e+00, 0.0000e+00],\n",
       "           [0.0000e+00, 5.9773e-05, 0.0000e+00,  ..., 1.3549e-04,\n",
       "            0.0000e+00, 7.4247e-05],\n",
       "           [7.7906e-06, 3.6549e-04, 0.0000e+00,  ..., 0.0000e+00,\n",
       "            0.0000e+00, 0.0000e+00]],\n",
       " \n",
       "          [[0.0000e+00, 0.0000e+00, 0.0000e+00,  ..., 0.0000e+00,\n",
       "            0.0000e+00, 8.5672e-06],\n",
       "           [0.0000e+00, 8.8661e-05, 1.9265e-04,  ..., 9.8235e-05,\n",
       "            8.6543e-05, 0.0000e+00],\n",
       "           [3.0313e-06, 0.0000e+00, 0.0000e+00,  ..., 0.0000e+00,\n",
       "            0.0000e+00, 6.4694e-05],\n",
       "           ...,\n",
       "           [0.0000e+00, 1.2772e-04, 0.0000e+00,  ..., 1.4005e-04,\n",
       "            6.5685e-05, 1.0348e-06],\n",
       "           [0.0000e+00, 0.0000e+00, 0.0000e+00,  ..., 4.5713e-05,\n",
       "            0.0000e+00, 0.0000e+00],\n",
       "           [6.5883e-05, 7.0148e-06, 1.1732e-04,  ..., 1.0091e-04,\n",
       "            0.0000e+00, 0.0000e+00]],\n",
       " \n",
       "          [[1.2449e-06, 1.4280e-04, 0.0000e+00,  ..., 1.0693e-04,\n",
       "            0.0000e+00, 0.0000e+00],\n",
       "           [0.0000e+00, 1.4820e-04, 1.5322e-04,  ..., 0.0000e+00,\n",
       "            0.0000e+00, 1.3326e-04],\n",
       "           [1.9775e-06, 2.0721e-06, 2.9636e-05,  ..., 3.7472e-05,\n",
       "            8.7578e-05, 8.9769e-05],\n",
       "           ...,\n",
       "           [3.8955e-05, 1.5255e-04, 0.0000e+00,  ..., 5.4174e-05,\n",
       "            8.3167e-07, 1.4437e-04],\n",
       "           [3.9846e-05, 1.9952e-04, 6.4310e-05,  ..., 4.4963e-05,\n",
       "            1.0572e-04, 1.1240e-05],\n",
       "           [0.0000e+00, 0.0000e+00, 0.0000e+00,  ..., 0.0000e+00,\n",
       "            0.0000e+00, 0.0000e+00]]],\n",
       " \n",
       " \n",
       "         [[[0.0000e+00, 0.0000e+00, 1.4400e-05,  ..., 0.0000e+00,\n",
       "            0.0000e+00, 3.2550e-05],\n",
       "           [0.0000e+00, 4.0587e-05, 7.1000e-05,  ..., 0.0000e+00,\n",
       "            0.0000e+00, 0.0000e+00],\n",
       "           [8.3775e-05, 0.0000e+00, 8.2405e-06,  ..., 0.0000e+00,\n",
       "            4.2580e-05, 0.0000e+00],\n",
       "           ...,\n",
       "           [7.9569e-05, 2.0564e-05, 3.5562e-04,  ..., 0.0000e+00,\n",
       "            0.0000e+00, 2.4912e-05],\n",
       "           [0.0000e+00, 1.2424e-04, 0.0000e+00,  ..., 6.3602e-05,\n",
       "            0.0000e+00, 4.9902e-05],\n",
       "           [0.0000e+00, 2.9240e-04, 0.0000e+00,  ..., 0.0000e+00,\n",
       "            0.0000e+00, 0.0000e+00]],\n",
       " \n",
       "          [[0.0000e+00, 0.0000e+00, 0.0000e+00,  ..., 0.0000e+00,\n",
       "            0.0000e+00, 0.0000e+00],\n",
       "           [3.8936e-05, 0.0000e+00, 2.3967e-04,  ..., 3.2306e-05,\n",
       "            1.0112e-04, 0.0000e+00],\n",
       "           [0.0000e+00, 0.0000e+00, 0.0000e+00,  ..., 0.0000e+00,\n",
       "            0.0000e+00, 1.1520e-04],\n",
       "           ...,\n",
       "           [3.8988e-05, 4.8379e-07, 0.0000e+00,  ..., 2.3407e-04,\n",
       "            1.0178e-04, 5.8343e-05],\n",
       "           [0.0000e+00, 0.0000e+00, 0.0000e+00,  ..., 0.0000e+00,\n",
       "            0.0000e+00, 3.7151e-05],\n",
       "           [8.1763e-05, 0.0000e+00, 1.2278e-04,  ..., 1.5286e-04,\n",
       "            0.0000e+00, 0.0000e+00]],\n",
       " \n",
       "          [[5.1999e-05, 1.5496e-04, 0.0000e+00,  ..., 3.9425e-05,\n",
       "            2.9361e-06, 0.0000e+00],\n",
       "           [0.0000e+00, 1.4373e-04, 1.8484e-04,  ..., 0.0000e+00,\n",
       "            0.0000e+00, 8.2274e-05],\n",
       "           [0.0000e+00, 0.0000e+00, 0.0000e+00,  ..., 2.8148e-05,\n",
       "            1.0848e-04, 0.0000e+00],\n",
       "           ...,\n",
       "           [0.0000e+00, 1.1656e-04, 0.0000e+00,  ..., 7.5192e-05,\n",
       "            6.6480e-05, 1.5632e-04],\n",
       "           [5.6001e-05, 1.6156e-04, 1.4838e-04,  ..., 1.1888e-05,\n",
       "            8.8713e-05, 0.0000e+00],\n",
       "           [0.0000e+00, 4.8838e-05, 0.0000e+00,  ..., 0.0000e+00,\n",
       "            0.0000e+00, 0.0000e+00]]]], device='cuda:0'),\n",
       " 'autoencoder': tensor([[[[0.0000e+00, 0.0000e+00, 0.0000e+00,  ..., 1.3544e-04,\n",
       "            0.0000e+00, 0.0000e+00],\n",
       "           [4.4267e-06, 1.0109e-04, 1.5065e-04,  ..., 0.0000e+00,\n",
       "            5.5430e-05, 0.0000e+00],\n",
       "           [8.6504e-06, 0.0000e+00, 0.0000e+00,  ..., 2.4187e-04,\n",
       "            0.0000e+00, 1.1266e-04],\n",
       "           ...,\n",
       "           [6.1123e-05, 0.0000e+00, 9.5963e-05,  ..., 0.0000e+00,\n",
       "            4.2365e-05, 4.1022e-05],\n",
       "           [0.0000e+00, 2.7360e-05, 0.0000e+00,  ..., 0.0000e+00,\n",
       "            0.0000e+00, 0.0000e+00],\n",
       "           [0.0000e+00, 2.8394e-05, 0.0000e+00,  ..., 3.2545e-04,\n",
       "            0.0000e+00, 0.0000e+00]],\n",
       " \n",
       "          [[0.0000e+00, 0.0000e+00, 0.0000e+00,  ..., 8.7867e-05,\n",
       "            0.0000e+00, 0.0000e+00],\n",
       "           [7.1941e-05, 0.0000e+00, 0.0000e+00,  ..., 0.0000e+00,\n",
       "            1.3914e-04, 0.0000e+00],\n",
       "           [0.0000e+00, 0.0000e+00, 0.0000e+00,  ..., 6.6600e-05,\n",
       "            0.0000e+00, 0.0000e+00],\n",
       "           ...,\n",
       "           [0.0000e+00, 0.0000e+00, 3.9382e-05,  ..., 0.0000e+00,\n",
       "            5.5576e-05, 0.0000e+00],\n",
       "           [0.0000e+00, 0.0000e+00, 0.0000e+00,  ..., 2.2999e-05,\n",
       "            0.0000e+00, 0.0000e+00],\n",
       "           [0.0000e+00, 4.0846e-06, 0.0000e+00,  ..., 1.4836e-04,\n",
       "            0.0000e+00, 0.0000e+00]],\n",
       " \n",
       "          [[1.0102e-04, 0.0000e+00, 4.5245e-05,  ..., 1.1621e-04,\n",
       "            1.5568e-04, 0.0000e+00],\n",
       "           [2.9868e-04, 1.9047e-04, 0.0000e+00,  ..., 1.7481e-04,\n",
       "            5.5903e-05, 7.1127e-06],\n",
       "           [1.9393e-04, 2.5901e-04, 2.3118e-04,  ..., 5.9121e-05,\n",
       "            2.3313e-04, 2.2302e-05],\n",
       "           ...,\n",
       "           [5.8523e-05, 4.0876e-05, 1.3357e-05,  ..., 3.9820e-05,\n",
       "            0.0000e+00, 1.2745e-05],\n",
       "           [3.0936e-05, 2.4706e-04, 3.4798e-04,  ..., 0.0000e+00,\n",
       "            2.2005e-04, 0.0000e+00],\n",
       "           [2.1572e-05, 0.0000e+00, 2.3634e-04,  ..., 0.0000e+00,\n",
       "            1.5843e-04, 0.0000e+00]]],\n",
       " \n",
       " \n",
       "         [[[0.0000e+00, 0.0000e+00, 0.0000e+00,  ..., 1.2764e-04,\n",
       "            0.0000e+00, 0.0000e+00],\n",
       "           [0.0000e+00, 0.0000e+00, 0.0000e+00,  ..., 0.0000e+00,\n",
       "            0.0000e+00, 6.3552e-05],\n",
       "           [0.0000e+00, 0.0000e+00, 0.0000e+00,  ..., 2.3484e-04,\n",
       "            0.0000e+00, 0.0000e+00],\n",
       "           ...,\n",
       "           [0.0000e+00, 0.0000e+00, 7.3040e-05,  ..., 4.3548e-05,\n",
       "            0.0000e+00, 6.5317e-05],\n",
       "           [0.0000e+00, 7.2748e-05, 0.0000e+00,  ..., 0.0000e+00,\n",
       "            0.0000e+00, 0.0000e+00],\n",
       "           [2.1420e-06, 7.3323e-05, 2.9068e-05,  ..., 1.4963e-04,\n",
       "            0.0000e+00, 0.0000e+00]],\n",
       " \n",
       "          [[0.0000e+00, 1.6397e-05, 6.7370e-06,  ..., 0.0000e+00,\n",
       "            0.0000e+00, 0.0000e+00],\n",
       "           [3.0858e-05, 0.0000e+00, 1.5273e-04,  ..., 0.0000e+00,\n",
       "            1.1141e-04, 0.0000e+00],\n",
       "           [0.0000e+00, 0.0000e+00, 0.0000e+00,  ..., 5.4647e-06,\n",
       "            0.0000e+00, 0.0000e+00],\n",
       "           ...,\n",
       "           [0.0000e+00, 0.0000e+00, 1.0168e-05,  ..., 0.0000e+00,\n",
       "            0.0000e+00, 0.0000e+00],\n",
       "           [0.0000e+00, 0.0000e+00, 0.0000e+00,  ..., 0.0000e+00,\n",
       "            0.0000e+00, 0.0000e+00],\n",
       "           [0.0000e+00, 0.0000e+00, 0.0000e+00,  ..., 9.4844e-05,\n",
       "            0.0000e+00, 0.0000e+00]],\n",
       " \n",
       "          [[5.3658e-05, 1.4823e-04, 1.2979e-04,  ..., 9.7706e-05,\n",
       "            1.7806e-04, 0.0000e+00],\n",
       "           [1.6209e-04, 1.0969e-04, 2.3793e-05,  ..., 3.2207e-04,\n",
       "            6.7209e-05, 8.4197e-06],\n",
       "           [6.1050e-05, 1.2070e-04, 2.3083e-04,  ..., 0.0000e+00,\n",
       "            1.9513e-04, 0.0000e+00],\n",
       "           ...,\n",
       "           [5.0111e-05, 3.8084e-05, 0.0000e+00,  ..., 0.0000e+00,\n",
       "            0.0000e+00, 0.0000e+00],\n",
       "           [0.0000e+00, 1.2987e-04, 2.3589e-04,  ..., 0.0000e+00,\n",
       "            1.7141e-04, 0.0000e+00],\n",
       "           [3.3832e-05, 0.0000e+00, 2.3036e-04,  ..., 0.0000e+00,\n",
       "            1.0287e-04, 0.0000e+00]]],\n",
       " \n",
       " \n",
       "         [[[0.0000e+00, 3.4174e-05, 0.0000e+00,  ..., 6.7074e-05,\n",
       "            0.0000e+00, 0.0000e+00],\n",
       "           [0.0000e+00, 1.4485e-04, 0.0000e+00,  ..., 0.0000e+00,\n",
       "            0.0000e+00, 0.0000e+00],\n",
       "           [0.0000e+00, 5.2064e-06, 0.0000e+00,  ..., 1.4005e-04,\n",
       "            0.0000e+00, 0.0000e+00],\n",
       "           ...,\n",
       "           [0.0000e+00, 0.0000e+00, 2.5526e-04,  ..., 0.0000e+00,\n",
       "            0.0000e+00, 1.1186e-05],\n",
       "           [0.0000e+00, 1.0340e-04, 0.0000e+00,  ..., 0.0000e+00,\n",
       "            0.0000e+00, 0.0000e+00],\n",
       "           [0.0000e+00, 3.8214e-05, 0.0000e+00,  ..., 9.9195e-05,\n",
       "            0.0000e+00, 0.0000e+00]],\n",
       " \n",
       "          [[0.0000e+00, 0.0000e+00, 0.0000e+00,  ..., 3.8819e-05,\n",
       "            0.0000e+00, 0.0000e+00],\n",
       "           [0.0000e+00, 0.0000e+00, 1.3867e-05,  ..., 0.0000e+00,\n",
       "            7.1892e-05, 0.0000e+00],\n",
       "           [0.0000e+00, 1.0889e-04, 0.0000e+00,  ..., 4.7460e-05,\n",
       "            0.0000e+00, 0.0000e+00],\n",
       "           ...,\n",
       "           [1.6252e-05, 0.0000e+00, 1.0527e-04,  ..., 0.0000e+00,\n",
       "            2.7625e-05, 0.0000e+00],\n",
       "           [0.0000e+00, 0.0000e+00, 0.0000e+00,  ..., 3.5395e-05,\n",
       "            0.0000e+00, 0.0000e+00],\n",
       "           [0.0000e+00, 0.0000e+00, 0.0000e+00,  ..., 1.0567e-04,\n",
       "            0.0000e+00, 0.0000e+00]],\n",
       " \n",
       "          [[5.5428e-05, 1.0287e-04, 1.5954e-04,  ..., 1.1822e-04,\n",
       "            1.3443e-04, 0.0000e+00],\n",
       "           [1.4261e-04, 0.0000e+00, 3.8137e-05,  ..., 3.2712e-04,\n",
       "            3.8362e-05, 6.2389e-05],\n",
       "           [5.1511e-05, 2.2955e-04, 4.0200e-04,  ..., 8.5080e-05,\n",
       "            9.2254e-05, 0.0000e+00],\n",
       "           ...,\n",
       "           [5.4462e-05, 0.0000e+00, 0.0000e+00,  ..., 0.0000e+00,\n",
       "            0.0000e+00, 0.0000e+00],\n",
       "           [3.1811e-05, 2.3077e-04, 2.8620e-04,  ..., 2.4410e-05,\n",
       "            1.3535e-04, 0.0000e+00],\n",
       "           [5.4308e-05, 0.0000e+00, 2.8788e-04,  ..., 0.0000e+00,\n",
       "            1.1392e-04, 0.0000e+00]]],\n",
       " \n",
       " \n",
       "         [[[0.0000e+00, 0.0000e+00, 0.0000e+00,  ..., 1.0344e-04,\n",
       "            0.0000e+00, 0.0000e+00],\n",
       "           [0.0000e+00, 6.4173e-05, 0.0000e+00,  ..., 0.0000e+00,\n",
       "            7.9143e-05, 8.5742e-05],\n",
       "           [0.0000e+00, 0.0000e+00, 0.0000e+00,  ..., 8.3157e-05,\n",
       "            0.0000e+00, 0.0000e+00],\n",
       "           ...,\n",
       "           [0.0000e+00, 0.0000e+00, 1.2465e-04,  ..., 0.0000e+00,\n",
       "            0.0000e+00, 0.0000e+00],\n",
       "           [0.0000e+00, 0.0000e+00, 0.0000e+00,  ..., 0.0000e+00,\n",
       "            0.0000e+00, 0.0000e+00],\n",
       "           [0.0000e+00, 2.6805e-05, 1.6017e-05,  ..., 7.3931e-05,\n",
       "            0.0000e+00, 0.0000e+00]],\n",
       " \n",
       "          [[0.0000e+00, 2.2335e-05, 0.0000e+00,  ..., 1.4980e-05,\n",
       "            0.0000e+00, 0.0000e+00],\n",
       "           [6.0090e-05, 0.0000e+00, 8.4913e-05,  ..., 0.0000e+00,\n",
       "            9.8378e-05, 0.0000e+00],\n",
       "           [0.0000e+00, 0.0000e+00, 0.0000e+00,  ..., 4.2862e-05,\n",
       "            0.0000e+00, 1.4315e-05],\n",
       "           ...,\n",
       "           [0.0000e+00, 0.0000e+00, 2.4213e-05,  ..., 0.0000e+00,\n",
       "            1.2818e-04, 0.0000e+00],\n",
       "           [0.0000e+00, 0.0000e+00, 0.0000e+00,  ..., 8.5336e-08,\n",
       "            0.0000e+00, 0.0000e+00],\n",
       "           [9.2391e-06, 8.2809e-05, 0.0000e+00,  ..., 1.5480e-04,\n",
       "            0.0000e+00, 0.0000e+00]],\n",
       " \n",
       "          [[6.8595e-05, 1.6588e-04, 1.4144e-04,  ..., 1.3164e-04,\n",
       "            1.4282e-04, 0.0000e+00],\n",
       "           [1.0643e-04, 1.4038e-04, 0.0000e+00,  ..., 0.0000e+00,\n",
       "            0.0000e+00, 6.8339e-05],\n",
       "           [3.3656e-05, 1.1541e-04, 3.3291e-04,  ..., 1.7306e-04,\n",
       "            1.3210e-04, 0.0000e+00],\n",
       "           ...,\n",
       "           [6.9450e-05, 0.0000e+00, 0.0000e+00,  ..., 2.6110e-05,\n",
       "            0.0000e+00, 0.0000e+00],\n",
       "           [0.0000e+00, 2.2805e-04, 3.5385e-04,  ..., 0.0000e+00,\n",
       "            1.4571e-04, 0.0000e+00],\n",
       "           [3.0072e-06, 0.0000e+00, 2.7240e-04,  ..., 0.0000e+00,\n",
       "            1.3066e-04, 0.0000e+00]]]], device='cuda:0')}"
      ]
     },
     "execution_count": 57,
     "metadata": {},
     "output_type": "execute_result"
    }
   ],
   "source": [
    "midreps"
   ]
  },
  {
   "cell_type": "code",
   "execution_count": 60,
   "metadata": {
    "ExecuteTime": {
     "end_time": "2020-06-02T22:30:18.698820Z",
     "start_time": "2020-06-02T22:30:18.167573Z"
    }
   },
   "outputs": [
    {
     "data": {
      "text/plain": [
       "<matplotlib.image.AxesImage at 0x7fc87444dc88>"
      ]
     },
     "execution_count": 60,
     "metadata": {},
     "output_type": "execute_result"
    },
    {
     "data": {
      "image/png": "[encoded data removed]",
      "text/plain": [
       "<Figure size 432x288 with 1 Axes>"
      ]
     },
     "metadata": {
      "needs_background": "light"
     },
     "output_type": "display_data"
    }
   ],
   "source": [
    "plt.imshow(make_grid(midreps['autoencoder']).cpu().permute(1, 2, 0))"
   ]
  },
  {
   "cell_type": "code",
   "execution_count": null,
   "metadata": {
    "ExecuteTime": {
     "start_time": "2020-06-02T22:35:22.277Z"
    },
    "scrolled": false
   },
   "outputs": [
    {
     "name": "stderr",
     "output_type": "stream",
     "text": [
      "INFO:lightning:CometLogger will be initialized in online mode\n",
      "INFO:lightning:GPU available: True, used: True\n",
      "INFO:lightning:CUDA_VISIBLE_DEVICES: [0]\n"
     ]
    },
    {
     "name": "stdout",
     "output_type": "stream",
     "text": [
      "Multitask weights:\n",
      "{'lnorm': 1.0, 'adv': 0.004016064257028113, 'depths': 0.3333333333333333, 'normals': 0.3333333333333333, 'autoencoder': 0.3333333333333333}\n"
     ]
    },
    {
     "name": "stderr",
     "output_type": "stream",
     "text": [
      "COMET INFO: ---------------------------\n",
      "COMET INFO: Comet.ml Experiment Summary\n",
      "COMET INFO: ---------------------------\n",
      "COMET INFO:   Data:\n",
      "COMET INFO:     display_summary_level : 1\n",
      "COMET INFO:     url                   : https://www.comet.ml/debug/debug/b1e74a0fd6a14c77bfcd67191d84854a\n",
      "COMET INFO:   Parameters:\n",
      "COMET INFO:     cfg_file                               : None\n",
      "COMET INFO:     checkpoint_path                        : None\n",
      "COMET INFO:     comet_project_name                     : debug\n",
      "COMET INFO:     comet_workspace                        : debug\n",
      "COMET INFO:     eval                                   : 1\n",
      "COMET INFO:     exp_name                               : 1\n",
      "COMET INFO:     gpus                                   : 1\n",
      "COMET INFO:     logcomet                               : True\n",
      "COMET INFO:     model/arch                             : rn\n",
      "COMET INFO:     model/backbone/kwargs/layers           : None\n",
      "COMET INFO:     model/backbone/kwargs/lightweight      : True\n",
      "COMET INFO:     model/decoder/kwargs/in_nc             : 128\n",
      "COMET INFO:     model/decoder/kwargs/last_nc           : 64\n",
      "COMET INFO:     model/discriminator/use                : 1\n",
      "COMET INFO:     model/encoder/kwargs/out_nc            : 128\n",
      "COMET INFO:     model/midreps/kwargs/normalize_outputs : True\n",
      "COMET INFO:     model/midreps/use                      : True\n",
      "COMET INFO:     num_workers                            : 4\n",
      "COMET INFO:     orig_dir                               : /storage1/samenabar/code/CLMAC/clevr-dataset-gen/datasets/CLEVR_v1.2\n",
      "COMET INFO:     random_seed                            : None\n",
      "COMET INFO:     run_name                               : 1\n",
      "COMET INFO:     tasks                                  : ['depths', 'normals', 'autoencoder']\n",
      "COMET INFO:     test                                   : 1\n",
      "COMET INFO:     train/adv_mult                         : 0.004\n",
      "COMET INFO:     train/adv_skip                         : True\n",
      "COMET INFO:     train/bsz                              : 64\n",
      "COMET INFO:     train/epochs                           : 15\n",
      "COMET INFO:     train/lnorm                            : smooth_l1\n",
      "COMET INFO:     train/lnorm_mult                       : 0.996\n",
      "COMET INFO:     train/lr                               : 0.0001\n",
      "COMET INFO:     train/lrs/default                      : 0.0001\n",
      "COMET INFO:     train/lrs/discriminator                : 1e-05\n",
      "COMET INFO:     train/task_lambdas/autoencoder         : 1\n",
      "COMET INFO:     train/task_lambdas/depths              : 1\n",
      "COMET INFO:     train/task_lambdas/normals             : 1\n",
      "COMET INFO:     train/val_bsz                          : 64\n",
      "COMET INFO:     train/weight_decay/default             : 2e-06\n",
      "COMET INFO:     train/weight_decay/discriminator       : 1.9999999999999998e-05\n",
      "COMET INFO:     uni_dir                                : /storage1/samenabar/code/CLMAC/clevr-dataset-gen/datasets/CLEVR_Uni_v1.2\n",
      "COMET INFO:   Uploads [count]:\n",
      "COMET INFO:     asset [24]               : 24\n",
      "COMET INFO:     environment details      : 1\n",
      "COMET INFO:     figures [2]              : 2\n",
      "COMET INFO:     filename                 : 1\n",
      "COMET INFO:     git metadata             : 1\n",
      "COMET INFO:     git-patch (uncompressed) : 1 (98 KB)\n",
      "COMET INFO:     installed packages       : 1\n",
      "COMET INFO:     model graph              : 1\n",
      "COMET INFO:     os packages              : 1\n",
      "COMET INFO: ---------------------------\n",
      "COMET INFO: old comet version (3.1.6) detected. current: 3.1.8 please update your comet lib with command: `pip install --no-cache-dir --upgrade comet_ml`\n",
      "COMET INFO: Experiment is live on comet.ml https://www.comet.ml/debug/debug/2b1089c5167048ac945cffb7aa0bdb16\n",
      "\n",
      "INFO:lightning:Set SLURM handle signals.\n",
      "INFO:lightning:\n",
      "   | Name                      | Type            | Params\n",
      "----------------------------------------------------------\n",
      "0  | encoder                   | RNBackbone      | 97 K  \n",
      "1  | encoder.layers            | Sequential      | 97 K  \n",
      "2  | encoder.layers.0          | Conv2d          | 432   \n",
      "3  | encoder.layers.1          | BatchNorm2d     | 32    \n",
      "4  | encoder.layers.2          | ReLU            | 0     \n",
      "5  | encoder.layers.3          | Conv2d          | 4 K   \n",
      "6  | encoder.layers.4          | BatchNorm2d     | 64    \n",
      "7  | encoder.layers.5          | ReLU            | 0     \n",
      "8  | encoder.layers.6          | Conv2d          | 18 K  \n",
      "9  | encoder.layers.7          | BatchNorm2d     | 128   \n",
      "10 | encoder.layers.8          | ReLU            | 0     \n",
      "11 | encoder.layers.9          | Conv2d          | 73 K  \n",
      "12 | encoder.layers.10         | BatchNorm2d     | 256   \n",
      "13 | encoder.layers.11         | ReLU            | 0     \n",
      "14 | decoder                   | RNDecoder       | 262 K \n",
      "15 | decoder.layers            | Sequential      | 258 K \n",
      "16 | decoder.layers.0          | ConvTranspose2d | 147 K \n",
      "17 | decoder.layers.1          | BatchNorm2d     | 256   \n",
      "18 | decoder.layers.2          | ReLU            | 0     \n",
      "19 | decoder.layers.3          | ConvTranspose2d | 73 K  \n",
      "20 | decoder.layers.4          | BatchNorm2d     | 128   \n",
      "21 | decoder.layers.5          | ReLU            | 0     \n",
      "22 | decoder.layers.6          | ConvTranspose2d | 36 K  \n",
      "23 | decoder.layers.7          | BatchNorm2d     | 128   \n",
      "24 | decoder.layers.8          | ReLU            | 0     \n",
      "25 | decoder.heads             | ModuleDict      | 4 K   \n",
      "26 | decoder.heads.depths      | ConvTranspose2d | 576   \n",
      "27 | decoder.heads.normals     | ConvTranspose2d | 1 K   \n",
      "28 | decoder.heads.autoencoder | ConvTranspose2d | 1 K   \n",
      "29 | lnorm                     | SmoothL1Loss    | 0     \n"
     ]
    },
    {
     "data": {
      "application/vnd.jupyter.widget-view+json": {
       "model_id": "",
       "version_major": 2,
       "version_minor": 0
      },
      "text/plain": [
       "HBox(children=(FloatProgress(value=1.0, bar_style='info', description='Validation sanity check', layout=Layout…"
      ]
     },
     "metadata": {},
     "output_type": "display_data"
    },
    {
     "name": "stderr",
     "output_type": "stream",
     "text": [
      "WARNING:matplotlib.image:Clipping input data to the valid range for imshow with RGB data ([0..1] for floats or [0..255] for integers).\n",
      "WARNING:matplotlib.image:Clipping input data to the valid range for imshow with RGB data ([0..1] for floats or [0..255] for integers).\n"
     ]
    },
    {
     "data": {
      "application/vnd.jupyter.widget-view+json": {
       "model_id": "3f40822191a8493caab6afcb5e1008c6",
       "version_major": 2,
       "version_minor": 0
      },
      "text/plain": [
       "HBox(children=(FloatProgress(value=1.0, bar_style='info', description='Training', layout=Layout(flex='2'), max…"
      ]
     },
     "metadata": {},
     "output_type": "display_data"
    },
    {
     "name": "stdout",
     "output_type": "stream",
     "text": [
      "Sent src to comet\n"
     ]
    },
    {
     "data": {
      "application/vnd.jupyter.widget-view+json": {
       "model_id": "",
       "version_major": 2,
       "version_minor": 0
      },
      "text/plain": [
       "HBox(children=(FloatProgress(value=1.0, bar_style='info', description='Validating', layout=Layout(flex='2'), m…"
      ]
     },
     "metadata": {},
     "output_type": "display_data"
    },
    {
     "name": "stderr",
     "output_type": "stream",
     "text": [
      "WARNING:matplotlib.image:Clipping input data to the valid range for imshow with RGB data ([0..1] for floats or [0..255] for integers).\n",
      "WARNING:matplotlib.image:Clipping input data to the valid range for imshow with RGB data ([0..1] for floats or [0..255] for integers).\n",
      "WARNING:matplotlib.image:Clipping input data to the valid range for imshow with RGB data ([0..1] for floats or [0..255] for integers).\n",
      "WARNING:matplotlib.image:Clipping input data to the valid range for imshow with RGB data ([0..1] for floats or [0..255] for integers).\n",
      "WARNING:matplotlib.image:Clipping input data to the valid range for imshow with RGB data ([0..1] for floats or [0..255] for integers).\n",
      "WARNING:matplotlib.image:Clipping input data to the valid range for imshow with RGB data ([0..1] for floats or [0..255] for integers).\n"
     ]
    },
    {
     "data": {
      "application/vnd.jupyter.widget-view+json": {
       "model_id": "",
       "version_major": 2,
       "version_minor": 0
      },
      "text/plain": [
       "HBox(children=(FloatProgress(value=1.0, bar_style='info', description='Validating', layout=Layout(flex='2'), m…"
      ]
     },
     "metadata": {},
     "output_type": "display_data"
    },
    {
     "name": "stderr",
     "output_type": "stream",
     "text": [
      "WARNING:matplotlib.image:Clipping input data to the valid range for imshow with RGB data ([0..1] for floats or [0..255] for integers).\n",
      "WARNING:matplotlib.image:Clipping input data to the valid range for imshow with RGB data ([0..1] for floats or [0..255] for integers).\n",
      "WARNING:matplotlib.image:Clipping input data to the valid range for imshow with RGB data ([0..1] for floats or [0..255] for integers).\n",
      "WARNING:matplotlib.image:Clipping input data to the valid range for imshow with RGB data ([0..1] for floats or [0..255] for integers).\n",
      "WARNING:matplotlib.image:Clipping input data to the valid range for imshow with RGB data ([0..1] for floats or [0..255] for integers).\n"
     ]
    },
    {
     "data": {
      "application/vnd.jupyter.widget-view+json": {
       "model_id": "29ff82ac73c841b38dd25c7789128f3c",
       "version_major": 2,
       "version_minor": 0
      },
      "text/plain": [
       "HBox(children=(FloatProgress(value=1.0, bar_style='info', description='Validating', layout=Layout(flex='2'), m…"
      ]
     },
     "metadata": {},
     "output_type": "display_data"
    },
    {
     "name": "stderr",
     "output_type": "stream",
     "text": [
      "WARNING:matplotlib.image:Clipping input data to the valid range for imshow with RGB data ([0..1] for floats or [0..255] for integers).\n",
      "WARNING:matplotlib.image:Clipping input data to the valid range for imshow with RGB data ([0..1] for floats or [0..255] for integers).\n",
      "WARNING:matplotlib.image:Clipping input data to the valid range for imshow with RGB data ([0..1] for floats or [0..255] for integers).\n",
      "WARNING:matplotlib.image:Clipping input data to the valid range for imshow with RGB data ([0..1] for floats or [0..255] for integers).\n"
     ]
    }
   ],
   "source": [
    "cfg.train.lrs.default = 1e-4\n",
    "\n",
    "model = PLModel(cfg)\n",
    "trainer = pl.Trainer(\n",
    "    gpus=cfg.gpus,\n",
    "    logger=model.make_comet_logger(),\n",
    "    # callbacks=[progress_bar],\n",
    "    max_epochs=cfg.train.epochs,\n",
    "    # default_root_dir=model.exp_dir,\n",
    "    checkpoint_callback=None,\n",
    "    num_sanity_val_steps=1,\n",
    ")\n",
    "\n",
    "trainer.fit(model)"
   ]
  },
  {
   "cell_type": "code",
   "execution_count": null,
   "metadata": {},
   "outputs": [],
   "source": []
  }
 ],
 "metadata": {
  "kernelspec": {
   "display_name": "grievous",
   "language": "python",
   "name": "grievous"
  },
  "language_info": {
   "codemirror_mode": {
    "name": "ipython",
    "version": 3
   },
   "file_extension": ".py",
   "mimetype": "text/x-python",
   "name": "python",
   "nbconvert_exporter": "python",
   "pygments_lexer": "ipython3",
   "version": "3.6.8"
  },
  "toc": {
   "base_numbering": 1,
   "nav_menu": {},
   "number_sections": true,
   "sideBar": true,
   "skip_h1_title": false,
   "title_cell": "Table of Contents",
   "title_sidebar": "Contents",
   "toc_cell": false,
   "toc_position": {
    "height": "calc(100% - 180px)",
    "left": "10px",
    "top": "150px",
    "width": "173.5px"
   },
   "toc_section_display": true,
   "toc_window_display": false
  }
 },
 "nbformat": 4,
 "nbformat_minor": 2
}
